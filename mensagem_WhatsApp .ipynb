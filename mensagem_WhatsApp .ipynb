{
 "cells": [
  {
   "cell_type": "code",
   "execution_count": null,
   "id": "5c6df409",
   "metadata": {},
   "outputs": [
    {
     "name": "stdout",
     "output_type": "stream",
     "text": [
      "In 66 Seconds WhatsApp will open and after 10 Seconds Message will be Delivered!\n",
      "In 27 Seconds WhatsApp will open and after 10 Seconds Message will be Delivered!\n",
      "In 35 Seconds WhatsApp will open and after 10 Seconds Message will be Delivered!\n"
     ]
    }
   ],
   "source": [
    "import pywhatkit as kit\n",
    "from tkinter import *\n",
    "\n",
    "\n",
    "#tela\n",
    "janela = Tk()\n",
    "janela.title('mensagem programada ')\n",
    "janela.geometry('250x320+500+150')\n",
    "\n",
    "\n",
    "#funções \n",
    "def osdados():\n",
    "    kit.sendwhatmsg(numero.get(),msg.get(),int(Hr.get()),int(Mn.get()),10)\n",
    "    \n",
    "\n",
    "#Labels   \n",
    "texto_orientação = Label(janela,text='PROGRAME SUA MENSAGEM. \\n')\n",
    "Label(janela,text='Qual número que deseja enviar mensagem ? \\n OBS:com os código do País e o DDD').grid(column=0, row=1)\n",
    "Label(janela,text='Qual mensagem quer enviar ?').grid(column=0, row=3)\n",
    "Label(janela,text='Qual a hora de envio ? \\n OBS:somente a hora sem os minutos').grid(column=0, row=5)\n",
    "Label(janela,text='Agora os minutos ? \\n OBS:somente os minutos sem a hora').grid(column=0, row=7)\n",
    "\n",
    "#StringVars\n",
    "numero = StringVar()\n",
    "msg = StringVar()\n",
    "Hr = StringVar()\n",
    "Mn =StringVar()\n",
    "\n",
    "#widgets \n",
    "texto_numero = Entry(janela,bd = 5,textvariable=numero)\n",
    "texto_msg = Entry(janela,bd = 5,textvariable=msg)\n",
    "hora = Entry(janela,bd = 5,textvariable=Hr)\n",
    "minutos = Entry(janela,bd = 5,textvariable=Mn)\n",
    "\n",
    "#layout \n",
    "texto_orientação.grid(column=0 , row=0)\n",
    "texto_numero.grid(column=0 , row=2)\n",
    "texto_numero.focus()\n",
    "texto_msg.grid(column=0 , row=4)\n",
    "hora.grid(column=0 , row=6)\n",
    "minutos.grid(column=0 , row=8)\n",
    "\n",
    "#Botões \n",
    "botao = Button(janela,text='Agendar Mensagem ',bd=5,command=osdados)\n",
    "botao.grid(column=0 , row=9)\n",
    "\n",
    "janela.mainloop()\n"
   ]
  }
 ],
 "metadata": {
  "kernelspec": {
   "display_name": "Python 3 (ipykernel)",
   "language": "python",
   "name": "python3"
  },
  "language_info": {
   "codemirror_mode": {
    "name": "ipython",
    "version": 3
   },
   "file_extension": ".py",
   "mimetype": "text/x-python",
   "name": "python",
   "nbconvert_exporter": "python",
   "pygments_lexer": "ipython3",
   "version": "3.9.7"
  }
 },
 "nbformat": 4,
 "nbformat_minor": 5
}
